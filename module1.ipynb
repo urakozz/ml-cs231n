{
"metadata": {
"name": "",
"signature": "sha256:fd985c2362d2f2f862bdc4dfa4661422e25fc4e7ad9629dbc82c250447f94d5c"
},
"nbformat": 3,
"nbformat_minor": 0,
"worksheets": [
{
"cells": [
{
"cell_type": "code",
"collapsed": false,
"input": [
"# A bit of setup\n",
"import numpy as np\n",
"import matplotlib.pyplot as plt\n",
"\n",
"%matplotlib inline\n",
"plt.rcParams['figure.figsize'] = (10.0, 8.0) # set default size of plots\n",
"plt.rcParams['image.interpolation'] = 'nearest'\n",
"plt.rcParams['image.cmap'] = 'gray'\n",
"\n",
"# for auto-reloading extenrnal modules\n",
"# see http://stackoverflow.com/questions/1907993/autoreload-of-modules-in-ipython\n",
"%load_ext autoreload\n",
"%autoreload 2"
],
"language": "python",
"metadata": {},
"outputs": [],
"prompt_number": 1
},
{
"cell_type": "code",
"collapsed": false,
"input": [
"np.random.seed(0)\n",
"N = 100 # number of points per class\n",
"D = 2 # dimensionality\n",
"K = 3 # number of classes\n",
"X = np.zeros((N*K,D))\n",
"y = np.zeros(N*K, dtype='uint8')\n",
"for j in xrange(K):\n",
" ix = range(N*j,N*(j+1))\n",
" r = np.linspace(0.0,1,N) # radius\n",
" t = np.linspace(j*4,(j+1)*4,N) + np.random.randn(N)*0.2 # theta\n",
" X[ix] = np.c_[r*np.sin(t), r*np.cos(t)]\n",
" y[ix] = j\n",
"fig = plt.figure()\n",
"plt.scatter(X[:, 0], X[:, 1], c=y, s=40, cmap=plt.cm.Spectral)\n",
"plt.xlim([-1,1])\n",
"plt.ylim([-1,1])\n",
"#fig.savefig('spiral_raw.png')"
],
"language": "python",
"metadata": {},
"outputs": [
{
"metadata": {},
"output_type": "display_data",
"png": "iVBORw0KGgoAAAANSUhEUgAAAl0AAAHfCAYAAABqEm1lAAAABHNCSVQICAgIfAhkiAAAAAlwSFlz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
"text": [
"<matplotlib.figure.Figure at 0x6764990>"
]
}
],
"prompt_number": 323
},
{
"cell_type": "code",
"collapsed": false,
"input": [
"#Train a Linear Classifier\n",
"\n",
"# initialize parameters randomly\n",
"W = 0.01 * np.random.randn(D,K)\n",
"b = np.zeros((1,K))\n",
"\n",
"# some hyperparameters\n",
"step_size = 1e-0\n",
"reg = 1e-3 # regularization strength\n",
"\n",
"# gradient descent loop\n",
"num_examples = X.shape[0]\n",
"for i in xrange(200):\n",
" \n",
" # evaluate class scores, [N x K]\n",
" scores = np.dot(X, W) + b \n",
" \n",
" # compute the class probabilities\n",
" exp_scores = np.exp(scores)\n",
" probs = exp_scores / np.sum(exp_scores, axis=1, keepdims=True) # [N x K]\n",
" \n",
" # compute the loss: average cross-entropy loss and regularization\n",
" corect_logprobs = -np.log(probs[range(num_examples),y])\n",
" data_loss = np.sum(corect_logprobs)/num_examples\n",
" reg_loss = 0.5*reg*np.sum(W*W)\n",
" loss = data_loss + reg_loss\n",
" if i % 10 == 0:\n",
" print \"iteration %d: loss %f\" % (i, loss)\n",
" \n",
" # compute the gradient on scores\n",
" dscores = probs\n",
" dscores[range(num_examples),y] -= 1\n",
" dscores /= num_examples\n",
" \n",
" # backpropate the gradient to the parameters (W,b)\n",
" dW = np.dot(X.T, dscores)\n",
" db = np.sum(dscores, axis=0, keepdims=True)\n",
" \n",
" dW += reg*W # regularization gradient\n",
" \n",
" # perform a parameter update\n",
" W += -step_size * dW\n",
" b += -step_size * db"
],
"language": "python",
"metadata": {},
"outputs": [
{
"output_type": "stream",
"stream": "stdout",
"text": [
"iteration 0: loss 1.096956\n",
"iteration 10: loss 0.917265\n",
"iteration 20: loss 0.851503\n",
"iteration 30: loss 0.822336\n",
"iteration 40: loss 0.807586\n",
"iteration 50: loss 0.799448\n",
"iteration 60: loss 0.794681\n",
"iteration 70: loss 0.791764\n",
"iteration 80: loss 0.789920\n",
"iteration 90: loss 0.788726\n",
"iteration 100: loss 0.787938\n",
"iteration 110: loss 0.787409\n",
"iteration 120: loss 0.787049\n",
"iteration 130: loss 0.786803\n",
"iteration 140: loss 0.786633\n",
"iteration 150: loss 0.786514\n",
"iteration 160: loss 0.786431\n",
"iteration 170: loss 0.786373\n",
"iteration 180: loss 0.786331\n",
"iteration 190: loss 0.786302\n"
]
}
],
"prompt_number": 329
},
{
"cell_type": "code",
"collapsed": false,
"input": [
"# evaluate training set accuracy\n",
"scores = np.dot(X, W) + b\n",
"predicted_class = np.argmax(scores, axis=1)\n",
"print 'training accuracy: %.2f' % (np.mean(predicted_class == y))"
],
"language": "python",
"metadata": {},
"outputs": [
{
"output_type": "stream",
"stream": "stdout",
"text": [
"training accuracy: 0.49\n"
]
}
],
"prompt_number": 330
},
{
"cell_type": "code",
"collapsed": false,
"input": [
"# plot the resulting classifier\n",
"h = 0.02\n",
"x_min, x_max = X[:, 0].min() - 1, X[:, 0].max() + 1\n",
"y_min, y_max = X[:, 1].min() - 1, X[:, 1].max() + 1\n",
"xx, yy = np.meshgrid(np.arange(x_min, x_max, h),\n",
" np.arange(y_min, y_max, h))\n",
"Z = np.dot(np.c_[xx.ravel(), yy.ravel()], W) + b\n",
"Z = np.argmax(Z, axis=1)\n",
"Z = Z.reshape(xx.shape)\n",
"fig = plt.figure()\n",
"plt.contourf(xx, yy, Z, cmap=plt.cm.Spectral, alpha=0.8)\n",
"plt.scatter(X[:, 0], X[:, 1], c=y, s=40, cmap=plt.cm.Spectral)\n",
"plt.xlim(xx.min(), xx.max())\n",
"plt.ylim(yy.min(), yy.max())\n",
"#fig.savefig('spiral_linear.png')"
],
"language": "python",
"metadata": {},
"outputs": [
{
"metadata": {},
"output_type": "display_data",
"png": "iVBORw0KGgoAAAANSUhEUgAAAlYAAAHaCAYAAADCPwchAAAABHNCSVQICAgIfAhkiAAAAAlwSFlz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\nJFiJD/Ki7spI6q6EEEKIZyRYiQ/2clH782ai
"text": [
"<matplotlib.figure.Figure at 0x3bf7790>"
]
}
],
"prompt_number": 331
},
{
"cell_type": "code",
"collapsed": false,
"input": [
"# initialize parameters randomly\n",
"h = 100 # size of hidden layer\n",
"W = 0.01 * np.random.randn(D,h)\n",
"b = np.zeros((1,h))\n",
"W2 = 0.01 * np.random.randn(h,K)\n",
"b2 = np.zeros((1,K))\n",
"\n",
"# some hyperparameters\n",
"step_size = 1e-0\n",
"reg = 1e-3 # regularization strength\n",
"\n",
"# gradient descent loop\n",
"num_examples = X.shape[0]\n",
"for i in xrange(10000):\n",
" \n",
" # evaluate class scores, [N x K]\n",
" hidden_layer = np.maximum(0, np.dot(X, W) + b) # note, ReLU activation\n",
" scores = np.dot(hidden_layer, W2) + b2\n",
" \n",
" # compute the class probabilities\n",
" exp_scores = np.exp(scores)\n",
" probs = exp_scores / np.sum(exp_scores, axis=1, keepdims=True) # [N x K]\n",
" \n",
" # compute the loss: average cross-entropy loss and regularization\n",
" corect_logprobs = -np.log(probs[range(num_examples),y])\n",
" data_loss = np.sum(corect_logprobs)/num_examples\n",
" reg_loss = 0.5*reg*np.sum(W*W) + 0.5*reg*np.sum(W2*W2)\n",
" loss = data_loss + reg_loss\n",
" if i % 1000 == 0:\n",
" print \"iteration %d: loss %f\" % (i, loss)\n",
" \n",
" # compute the gradient on scores\n",
" dscores = probs\n",
" dscores[range(num_examples),y] -= 1\n",
" dscores /= num_examples\n",
" \n",
" # backpropate the gradient to the parameters\n",
" # first backprop into parameters W2 and b2\n",
" dW2 = np.dot(hidden_layer.T, dscores)\n",
" db2 = np.sum(dscores, axis=0, keepdims=True)\n",
" # next backprop into hidden layer\n",
" dhidden = np.dot(dscores, W2.T)\n",
" # backprop the ReLU non-linearity\n",
" dhidden[hidden_layer <= 0] = 0\n",
" # finally into W,b\n",
" dW = np.dot(X.T, dhidden)\n",
" db = np.sum(dhidden, axis=0, keepdims=True)\n",
" \n",
" # add regularization gradient contribution\n",
" dW2 += reg * W2\n",
" dW += reg * W\n",
" \n",
" # perform a parameter update\n",
" W += -step_size * dW\n",
" b += -step_size * db\n",
" W2 += -step_size * dW2\n",
" b2 += -step_size * db2"
],
"language": "python",
"metadata": {},
"outputs": [
{
"output_type": "stream",
"stream": "stdout",
"text": [
"iteration 0: loss 1.098744\n",
"iteration 1000: loss 0.294946"
]
},
{
"output_type": "stream",
"stream": "stdout",
"text": [
"\n",
"iteration 2000: loss 0.259301"
]
},
{
"output_type": "stream",
"stream": "stdout",
"text": [
"\n",
"iteration 3000: loss 0.248310"
]
},
{
"output_type": "stream",
"stream": "stdout",
"text": [
"\n",
"iteration 4000: loss 0.246170"
]
},
{
"output_type": "stream",
"stream": "stdout",
"text": [
"\n",
"iteration 5000: loss 0.245649"
]
},
{
"output_type": "stream",
"stream": "stdout",
"text": [
"\n",
"iteration 6000: loss 0.245491"
]
},
{
"output_type": "stream",
"stream": "stdout",
"text": [
"\n",
"iteration 7000: loss 0.245400"
]
},
{
"output_type": "stream",
"stream": "stdout",
"text": [
"\n",
"iteration 8000: loss 0.245335"
]
},
{
"output_type": "stream",
"stream": "stdout",
"text": [
"\n",
"iteration 9000: loss 0.245292"
]
},
{
"output_type": "stream",
"stream": "stdout",
"text": [
"\n"
]
}
],
"prompt_number": 332
},
{
"cell_type": "code",
"collapsed": false,
"input": [
"# evaluate training set accuracy\n",
"hidden_layer = np.maximum(0, np.dot(X, W) + b)\n",
"scores = np.dot(hidden_layer, W2) + b2\n",
"predicted_class = np.argmax(scores, axis=1)\n",
"print 'training accuracy: %.2f' % (np.mean(predicted_class == y))"
],
"language": "python",
"metadata": {},
"outputs": [
{
"output_type": "stream",
"stream": "stdout",
"text": [
"training accuracy: 0.98\n"
]
}
],
"prompt_number": 333
},
{
"cell_type": "code",
"collapsed": false,
"input": [
"# plot the resulting classifier\n",
"h = 0.02\n",
"x_min, x_max = X[:, 0].min() - 1, X[:, 0].max() + 1\n",
"y_min, y_max = X[:, 1].min() - 1, X[:, 1].max() + 1\n",
"xx, yy = np.meshgrid(np.arange(x_min, x_max, h),\n",
" np.arange(y_min, y_max, h))\n",
"Z = np.dot(np.maximum(0, np.dot(np.c_[xx.ravel(), yy.ravel()], W) + b), W2) + b2\n",
"Z = np.argmax(Z, axis=1)\n",
"Z = Z.reshape(xx.shape)\n",
"fig = plt.figure()\n",
"plt.contourf(xx, yy, Z, cmap=plt.cm.Spectral, alpha=0.8)\n",
"plt.scatter(X[:, 0], X[:, 1], c=y, s=40, cmap=plt.cm.Spectral)\n",
"plt.xlim(xx.min(), xx.max())\n",
"plt.ylim(yy.min(), yy.max())\n",
"#fig.savefig('spiral_net.png')"
],
"language": "python",
"metadata": {},
"outputs": [
{
"metadata": {},
"output_type": "display_data",
"png": "iVBORw0KGgoAAAANSUhEUgAAAlYAAAHaCAYAAADCPwchAAAABHNCSVQICAgIfAhkiAAAAAlwSFlz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
"text": [
"<matplotlib.figure.Figure at 0x6763b90>"
]
}
],
"prompt_number": 336
},
{
"cell_type": "code",
"collapsed": false,
"input": [],
"language": "python",
"metadata": {},
"outputs": []
}
],
"metadata": {}
}
]
}
